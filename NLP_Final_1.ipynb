{
 "cells": [
  {
   "cell_type": "code",
   "execution_count": 1,
   "metadata": {
    "tags": []
   },
   "outputs": [],
   "source": [
    "# %pip install pandarallel\n",
    "# %pip install bs4\n",
    "# %pip install ipywidgets\n",
    "# %pip install nltk"
   ]
  },
  {
   "cell_type": "markdown",
   "metadata": {},
   "source": [
    "## NLP Class Final Project Read Data"
   ]
  },
  {
   "cell_type": "code",
   "execution_count": 1,
   "metadata": {
    "tags": []
   },
   "outputs": [],
   "source": [
    "import pandas as pd\n",
    "import numpy as np\n",
    "import matplotlib.pyplot as plt\n",
    "import seaborn as sns\n",
    "import re\n",
    "import sys\n",
    "import bs4\n",
    "import nltk.corpus  \n",
    "from nltk.text import Text\n",
    "from pandarallel import pandarallel\n",
    "import multiprocessing\n",
    "import warnings\n",
    "warnings.filterwarnings('ignore')\n",
    "import ipywidgets as widgets\n",
    "widgets.IntSlider()\n",
    "\n",
    "pd.set_option('max_colwidth', 200)"
   ]
  },
  {
   "cell_type": "code",
   "execution_count": 2,
   "metadata": {
    "scrolled": true,
    "tags": []
   },
   "outputs": [],
   "source": [
    "from IPython.display import clear_output\n",
    "import nltk\n",
    "nltk.download('popular', halt_on_error=False)\n",
    "nltk.download('all', halt_on_error=False)\n",
    "clear_output(wait=False)"
   ]
  },
  {
   "cell_type": "markdown",
   "metadata": {},
   "source": [
    "### Get the workers initialized for multiprocessing"
   ]
  },
  {
   "cell_type": "code",
   "execution_count": 3,
   "metadata": {
    "tags": []
   },
   "outputs": [
    {
     "name": "stdout",
     "output_type": "stream",
     "text": [
      "INFO: Pandarallel will run on 62 workers.\n",
      "INFO: Pandarallel will use standard multiprocessing data transfer (pipe) to transfer data between the main process and workers.\n"
     ]
    }
   ],
   "source": [
    "num_cpu = multiprocessing.cpu_count()\n",
    "\n",
    "workers = num_cpu - 2\n",
    "\n",
    "pandarallel.initialize(nb_workers = workers, progress_bar = True, use_memory_fs=False)"
   ]
  },
  {
   "cell_type": "code",
   "execution_count": null,
   "metadata": {},
   "outputs": [],
   "source": []
  },
  {
   "cell_type": "code",
   "execution_count": 4,
   "metadata": {
    "tags": []
   },
   "outputs": [
    {
     "name": "stdout",
     "output_type": "stream",
     "text": [
      "CPU times: user 7.67 s, sys: 9.06 s, total: 16.7 s\n",
      "Wall time: 20.4 s\n"
     ]
    },
    {
     "data": {
      "text/plain": [
       "(200332, 5)"
      ]
     },
     "execution_count": 4,
     "metadata": {},
     "output_type": "execute_result"
    }
   ],
   "source": [
    "%%time\n",
    "\n",
    "df_news_final_project = pd.read_parquet('https://storage.googleapis.com/msca-bdp-data-open/news_final_project/news_final_project.parquet', engine='pyarrow')\n",
    "df_news_final_project.shape"
   ]
  },
  {
   "cell_type": "code",
   "execution_count": 5,
   "metadata": {
    "tags": []
   },
   "outputs": [
    {
     "data": {
      "text/html": [
       "<div>\n",
       "<style scoped>\n",
       "    .dataframe tbody tr th:only-of-type {\n",
       "        vertical-align: middle;\n",
       "    }\n",
       "\n",
       "    .dataframe tbody tr th {\n",
       "        vertical-align: top;\n",
       "    }\n",
       "\n",
       "    .dataframe thead th {\n",
       "        text-align: right;\n",
       "    }\n",
       "</style>\n",
       "<table border=\"1\" class=\"dataframe\">\n",
       "  <thead>\n",
       "    <tr style=\"text-align: right;\">\n",
       "      <th></th>\n",
       "      <th>url</th>\n",
       "      <th>date</th>\n",
       "      <th>language</th>\n",
       "      <th>title</th>\n",
       "      <th>text</th>\n",
       "    </tr>\n",
       "  </thead>\n",
       "  <tbody>\n",
       "    <tr>\n",
       "      <th>0</th>\n",
       "      <td>http://en.people.cn/n3/2021/0318/c90000-9830122.html</td>\n",
       "      <td>2021-03-18</td>\n",
       "      <td>en</td>\n",
       "      <td>Artificial intelligence improves parking efficiency in Chinese cities - People's Daily Online</td>\n",
       "      <td>\\n\\nArtificial intelligence improves parking efficiency in Chinese cities - People's Daily Online\\n\\nHome\\nChina Politics\\nForeign Affairs\\nOpinions\\nVideo: We Are China\\nBusiness\\nMilitary\\nWorld...</td>\n",
       "    </tr>\n",
       "    <tr>\n",
       "      <th>1</th>\n",
       "      <td>http://newsparliament.com/2020/02/27/children-with-autism-saw-their-learning-and-social-skills-boosted-after-playing-with-this-ai-robot/</td>\n",
       "      <td>2020-02-27</td>\n",
       "      <td>en</td>\n",
       "      <td>Children With Autism Saw Their Learning and Social Skills Boosted After Playing With This AI Robot – News Parliament</td>\n",
       "      <td>\\nChildren With Autism Saw Their Learning and Social Skills Boosted After Playing With This AI Robot – News Parliament\\n \\n\\nSkip to content\\n\\t\\t\\tThursday, February 27, 2020\\t\\t\\n\\nLatest:\\n\\n\\n...</td>\n",
       "    </tr>\n",
       "    <tr>\n",
       "      <th>2</th>\n",
       "      <td>http://www.dataweek.co.za/12835r</td>\n",
       "      <td>2021-03-26</td>\n",
       "      <td>en</td>\n",
       "      <td>Forget ML, AI and Industry 4.0 – obsolescence should be your focus - 26 February 2021 - Test &amp; Rework Solutions - Dataweek</td>\n",
       "      <td>\\n\\nForget ML, AI and Industry 4.0 – obsolescence should be your focus - 26 February 2021 - Test &amp; Rework Solutions - Dataweek\\nHome\\nAbout us\\nBack issues / E-book / PDF\\nEMP Handbook\\nSubscribe\\...</td>\n",
       "    </tr>\n",
       "  </tbody>\n",
       "</table>\n",
       "</div>"
      ],
      "text/plain": [
       "                                                                                                                                        url  \\\n",
       "0                                                                                      http://en.people.cn/n3/2021/0318/c90000-9830122.html   \n",
       "1  http://newsparliament.com/2020/02/27/children-with-autism-saw-their-learning-and-social-skills-boosted-after-playing-with-this-ai-robot/   \n",
       "2                                                                                                          http://www.dataweek.co.za/12835r   \n",
       "\n",
       "         date language  \\\n",
       "0  2021-03-18       en   \n",
       "1  2020-02-27       en   \n",
       "2  2021-03-26       en   \n",
       "\n",
       "                                                                                                                        title  \\\n",
       "0                               Artificial intelligence improves parking efficiency in Chinese cities - People's Daily Online   \n",
       "1        Children With Autism Saw Their Learning and Social Skills Boosted After Playing With This AI Robot – News Parliament   \n",
       "2  Forget ML, AI and Industry 4.0 – obsolescence should be your focus - 26 February 2021 - Test & Rework Solutions - Dataweek   \n",
       "\n",
       "                                                                                                                                                                                                      text  \n",
       "0  \\n\\nArtificial intelligence improves parking efficiency in Chinese cities - People's Daily Online\\n\\nHome\\nChina Politics\\nForeign Affairs\\nOpinions\\nVideo: We Are China\\nBusiness\\nMilitary\\nWorld...  \n",
       "1  \\nChildren With Autism Saw Their Learning and Social Skills Boosted After Playing With This AI Robot – News Parliament\\n \\n\\nSkip to content\\n\\t\\t\\tThursday, February 27, 2020\\t\\t\\n\\nLatest:\\n\\n\\n...  \n",
       "2  \\n\\nForget ML, AI and Industry 4.0 – obsolescence should be your focus - 26 February 2021 - Test & Rework Solutions - Dataweek\\nHome\\nAbout us\\nBack issues / E-book / PDF\\nEMP Handbook\\nSubscribe\\...  "
      ]
     },
     "execution_count": 5,
     "metadata": {},
     "output_type": "execute_result"
    }
   ],
   "source": [
    "df_news_final_project.head(3)"
   ]
  },
  {
   "cell_type": "markdown",
   "metadata": {},
   "source": [
    "## Cleaning the Data"
   ]
  },
  {
   "cell_type": "markdown",
   "metadata": {},
   "source": [
    "### Cleaning non textual columns"
   ]
  },
  {
   "cell_type": "code",
   "execution_count": 6,
   "metadata": {
    "tags": []
   },
   "outputs": [
    {
     "data": {
      "text/html": [
       "<div>\n",
       "<style scoped>\n",
       "    .dataframe tbody tr th:only-of-type {\n",
       "        vertical-align: middle;\n",
       "    }\n",
       "\n",
       "    .dataframe tbody tr th {\n",
       "        vertical-align: top;\n",
       "    }\n",
       "\n",
       "    .dataframe thead th {\n",
       "        text-align: right;\n",
       "    }\n",
       "</style>\n",
       "<table border=\"1\" class=\"dataframe\">\n",
       "  <thead>\n",
       "    <tr style=\"text-align: right;\">\n",
       "      <th></th>\n",
       "      <th>date</th>\n",
       "      <th>month</th>\n",
       "      <th>year</th>\n",
       "      <th>quarter</th>\n",
       "      <th>day</th>\n",
       "      <th>dayofwk</th>\n",
       "      <th>language</th>\n",
       "      <th>title</th>\n",
       "      <th>text</th>\n",
       "    </tr>\n",
       "  </thead>\n",
       "  <tbody>\n",
       "    <tr>\n",
       "      <th>0</th>\n",
       "      <td>2021-03-18</td>\n",
       "      <td>3</td>\n",
       "      <td>2021</td>\n",
       "      <td>2021Q1</td>\n",
       "      <td>18</td>\n",
       "      <td>3</td>\n",
       "      <td>en</td>\n",
       "      <td>Artificial intelligence improves parking efficiency in Chinese cities - People's Daily Online</td>\n",
       "      <td>\\n\\nArtificial intelligence improves parking efficiency in Chinese cities - People's Daily Online\\n\\nHome\\nChina Politics\\nForeign Affairs\\nOpinions\\nVideo: We Are China\\nBusiness\\nMilitary\\nWorld...</td>\n",
       "    </tr>\n",
       "    <tr>\n",
       "      <th>1</th>\n",
       "      <td>2020-02-27</td>\n",
       "      <td>2</td>\n",
       "      <td>2020</td>\n",
       "      <td>2020Q1</td>\n",
       "      <td>27</td>\n",
       "      <td>3</td>\n",
       "      <td>en</td>\n",
       "      <td>Children With Autism Saw Their Learning and Social Skills Boosted After Playing With This AI Robot – News Parliament</td>\n",
       "      <td>\\nChildren With Autism Saw Their Learning and Social Skills Boosted After Playing With This AI Robot – News Parliament\\n \\n\\nSkip to content\\n\\t\\t\\tThursday, February 27, 2020\\t\\t\\n\\nLatest:\\n\\n\\n...</td>\n",
       "    </tr>\n",
       "    <tr>\n",
       "      <th>2</th>\n",
       "      <td>2021-03-26</td>\n",
       "      <td>3</td>\n",
       "      <td>2021</td>\n",
       "      <td>2021Q1</td>\n",
       "      <td>26</td>\n",
       "      <td>4</td>\n",
       "      <td>en</td>\n",
       "      <td>Forget ML, AI and Industry 4.0 – obsolescence should be your focus - 26 February 2021 - Test &amp; Rework Solutions - Dataweek</td>\n",
       "      <td>\\n\\nForget ML, AI and Industry 4.0 – obsolescence should be your focus - 26 February 2021 - Test &amp; Rework Solutions - Dataweek\\nHome\\nAbout us\\nBack issues / E-book / PDF\\nEMP Handbook\\nSubscribe\\...</td>\n",
       "    </tr>\n",
       "  </tbody>\n",
       "</table>\n",
       "</div>"
      ],
      "text/plain": [
       "        date  month  year quarter  day  dayofwk language  \\\n",
       "0 2021-03-18      3  2021  2021Q1   18        3       en   \n",
       "1 2020-02-27      2  2020  2020Q1   27        3       en   \n",
       "2 2021-03-26      3  2021  2021Q1   26        4       en   \n",
       "\n",
       "                                                                                                                        title  \\\n",
       "0                               Artificial intelligence improves parking efficiency in Chinese cities - People's Daily Online   \n",
       "1        Children With Autism Saw Their Learning and Social Skills Boosted After Playing With This AI Robot – News Parliament   \n",
       "2  Forget ML, AI and Industry 4.0 – obsolescence should be your focus - 26 February 2021 - Test & Rework Solutions - Dataweek   \n",
       "\n",
       "                                                                                                                                                                                                      text  \n",
       "0  \\n\\nArtificial intelligence improves parking efficiency in Chinese cities - People's Daily Online\\n\\nHome\\nChina Politics\\nForeign Affairs\\nOpinions\\nVideo: We Are China\\nBusiness\\nMilitary\\nWorld...  \n",
       "1  \\nChildren With Autism Saw Their Learning and Social Skills Boosted After Playing With This AI Robot – News Parliament\\n \\n\\nSkip to content\\n\\t\\t\\tThursday, February 27, 2020\\t\\t\\n\\nLatest:\\n\\n\\n...  \n",
       "2  \\n\\nForget ML, AI and Industry 4.0 – obsolescence should be your focus - 26 February 2021 - Test & Rework Solutions - Dataweek\\nHome\\nAbout us\\nBack issues / E-book / PDF\\nEMP Handbook\\nSubscribe\\...  "
      ]
     },
     "execution_count": 6,
     "metadata": {},
     "output_type": "execute_result"
    }
   ],
   "source": [
    "#Discard the URLs for the analysis\n",
    "df = df_news_final_project.drop('url', axis=1)\n",
    "\n",
    "#Get the dates in order, have columns for dates, years, months, quarters, days and day of the week\n",
    "df['date'] = pd.to_datetime(df['date'])\n",
    "df['year'] = df['date'].dt.year\n",
    "df['month'] = df['date'].dt.month\n",
    "df['dayofwk'] = df['date'].dt.dayofweek\n",
    "df['day'] = df['date'].dt.day\n",
    "df['quarter'] = pd.PeriodIndex(df['date'], freq = \"Q\")\n",
    "\n",
    "#Ensuring there will only be English articles\n",
    "df = df[df['language']=='en']\n",
    "\n",
    "#get the order of columns straightened out\n",
    "cols = ['date','month','year','quarter','day','dayofwk','language','title','text']\n",
    "df = df[cols]\n",
    "\n",
    "df.head(3)"
   ]
  },
  {
   "cell_type": "code",
   "execution_count": 7,
   "metadata": {
    "tags": []
   },
   "outputs": [
    {
     "name": "stdout",
     "output_type": "stream",
     "text": [
      "<class 'pandas.core.frame.DataFrame'>\n",
      "Int64Index: 200332 entries, 0 to 200331\n",
      "Data columns (total 9 columns):\n",
      " #   Column    Non-Null Count   Dtype         \n",
      "---  ------    --------------   -----         \n",
      " 0   date      200332 non-null  datetime64[ns]\n",
      " 1   month     200332 non-null  int64         \n",
      " 2   year      200332 non-null  int64         \n",
      " 3   quarter   200332 non-null  period[Q-DEC] \n",
      " 4   day       200332 non-null  int64         \n",
      " 5   dayofwk   200332 non-null  int64         \n",
      " 6   language  200332 non-null  object        \n",
      " 7   title     200332 non-null  object        \n",
      " 8   text      200332 non-null  object        \n",
      "dtypes: datetime64[ns](1), int64(4), object(3), period[Q-DEC](1)\n",
      "memory usage: 15.3+ MB\n"
     ]
    }
   ],
   "source": [
    "df.info()"
   ]
  },
  {
   "cell_type": "markdown",
   "metadata": {},
   "source": [
    "### Clean the text and title columns"
   ]
  },
  {
   "cell_type": "code",
   "execution_count": 8,
   "metadata": {
    "tags": []
   },
   "outputs": [],
   "source": [
    "def text_clean(text):\n",
    "    \"\"\"Cleans text from news articles.\n",
    "\n",
    "      Args:\n",
    "        text: The text to be cleaned.\n",
    "\n",
    "      Returns:\n",
    "        The cleaned text.\n",
    "      \"\"\"\n",
    "    #Remove the symbols, new line characters, tab characters\n",
    "    clean_text = re.sub(r'[.,]',' ',text)\n",
    "    clean_text = re.sub(r'\\n+|\\t+|\\||^\\s+',' ', clean_text)\n",
    "    #Remove the HTML remnant tags if any\n",
    "    clean_text = bs4.BeautifulSoup(clean_text, \"html.parser\").get_text()\n",
    "    #Remove non-ASCII characters\n",
    "    clean_text = clean_text.encode(\"ascii\",\"ignore\").decode(\"ascii\")\n",
    "    #Remove punctuation\n",
    "    clean_text = re.sub(r'[^a-zA-Z0-9 . , @ - _]',' ',clean_text)\n",
    "    #Remove stopwords\n",
    "    stopwords = set(nltk.corpus.stopwords.words('english'))\n",
    "    clean_text = \" \".join([word for word in clean_text.split() if word not in stopwords])\n",
    "    #Remove single character words non printable characters\n",
    "    clean_text = \" \".join([word for word in clean_text.split() if len(word) >1])\n",
    "    clean_text = \" \".join([word for word in clean_text.split() if word.isprintable()])\n",
    "    #Replace multiple spaces to single space\n",
    "    clean_text = re.sub(r'\\s+',' ',clean_text)\n",
    "    \n",
    "    return clean_text"
   ]
  },
  {
   "cell_type": "code",
   "execution_count": 9,
   "metadata": {
    "scrolled": true,
    "tags": []
   },
   "outputs": [
    {
     "data": {
      "application/vnd.jupyter.widget-view+json": {
       "model_id": "41e94ef16abe47ee8e9cf5c01e68a643",
       "version_major": 2,
       "version_minor": 0
      },
      "text/plain": [
       "VBox(children=(HBox(children=(IntProgress(value=0, description='0.00%', max=3232), Label(value='0 / 3232'))), …"
      ]
     },
     "metadata": {},
     "output_type": "display_data"
    },
    {
     "name": "stdout",
     "output_type": "stream",
     "text": [
      "CPU times: user 1.11 s, sys: 4.45 s, total: 5.57 s\n",
      "Wall time: 5.9 s\n"
     ]
    }
   ],
   "source": [
    "%%time\n",
    "df['title_clean'] = df['title'].parallel_apply(lambda x: text_clean(x))"
   ]
  },
  {
   "cell_type": "code",
   "execution_count": 10,
   "metadata": {
    "scrolled": true,
    "tags": []
   },
   "outputs": [
    {
     "data": {
      "application/vnd.jupyter.widget-view+json": {
       "model_id": "7c5a5a05362b4c7887ab64eb5c62bba7",
       "version_major": 2,
       "version_minor": 0
      },
      "text/plain": [
       "VBox(children=(HBox(children=(IntProgress(value=0, description='0.00%', max=3232), Label(value='0 / 3232'))), …"
      ]
     },
     "metadata": {},
     "output_type": "display_data"
    },
    {
     "name": "stdout",
     "output_type": "stream",
     "text": [
      "CPU times: user 9.85 s, sys: 14.9 s, total: 24.8 s\n",
      "Wall time: 24.3 s\n"
     ]
    }
   ],
   "source": [
    "%%time\n",
    "df['text_clean'] = df['text'].parallel_apply(lambda x: text_clean(x))"
   ]
  },
  {
   "cell_type": "code",
   "execution_count": 12,
   "metadata": {},
   "outputs": [
    {
     "data": {
      "text/html": [
       "<div>\n",
       "<style scoped>\n",
       "    .dataframe tbody tr th:only-of-type {\n",
       "        vertical-align: middle;\n",
       "    }\n",
       "\n",
       "    .dataframe tbody tr th {\n",
       "        vertical-align: top;\n",
       "    }\n",
       "\n",
       "    .dataframe thead th {\n",
       "        text-align: right;\n",
       "    }\n",
       "</style>\n",
       "<table border=\"1\" class=\"dataframe\">\n",
       "  <thead>\n",
       "    <tr style=\"text-align: right;\">\n",
       "      <th></th>\n",
       "      <th>title</th>\n",
       "      <th>title_clean</th>\n",
       "      <th>text</th>\n",
       "      <th>text_clean</th>\n",
       "    </tr>\n",
       "  </thead>\n",
       "  <tbody>\n",
       "    <tr>\n",
       "      <th>0</th>\n",
       "      <td>Artificial intelligence improves parking efficiency in Chinese cities - People's Daily Online</td>\n",
       "      <td>Artificial intelligence improves parking efficiency Chinese cities People Daily Online</td>\n",
       "      <td>\\n\\nArtificial intelligence improves parking efficiency in Chinese cities - People's Daily Online\\n\\nHome\\nChina Politics\\nForeign Affairs\\nOpinions\\nVideo: We Are China\\nBusiness\\nMilitary\\nWorld...</td>\n",
       "      <td>Artificial intelligence improves parking efficiency Chinese cities People Daily Online Home China Politics Foreign Affairs Opinions Video We Are China Business Military World Society Culture Trave...</td>\n",
       "    </tr>\n",
       "    <tr>\n",
       "      <th>1</th>\n",
       "      <td>Children With Autism Saw Their Learning and Social Skills Boosted After Playing With This AI Robot – News Parliament</td>\n",
       "      <td>Children With Autism Saw Their Learning Social Skills Boosted After Playing With This AI Robot News Parliament</td>\n",
       "      <td>\\nChildren With Autism Saw Their Learning and Social Skills Boosted After Playing With This AI Robot – News Parliament\\n \\n\\nSkip to content\\n\\t\\t\\tThursday, February 27, 2020\\t\\t\\n\\nLatest:\\n\\n\\n...</td>\n",
       "      <td>Children With Autism Saw Their Learning Social Skills Boosted After Playing With This AI Robot News Parliament Skip content Thursday, February 27, 2020 Latest Mansplaining conferences How get fore...</td>\n",
       "    </tr>\n",
       "    <tr>\n",
       "      <th>2</th>\n",
       "      <td>Forget ML, AI and Industry 4.0 – obsolescence should be your focus - 26 February 2021 - Test &amp; Rework Solutions - Dataweek</td>\n",
       "      <td>Forget ML, AI Industry 4.0 obsolescence focus 26 February 2021 Test Rework Solutions Dataweek</td>\n",
       "      <td>\\n\\nForget ML, AI and Industry 4.0 – obsolescence should be your focus - 26 February 2021 - Test &amp; Rework Solutions - Dataweek\\nHome\\nAbout us\\nBack issues / E-book / PDF\\nEMP Handbook\\nSubscribe\\...</td>\n",
       "      <td>Forget ML, AI Industry 4.0 obsolescence focus 26 February 2021 Test Rework Solutions Dataweek Home About us Back issues book PDF EMP Handbook Subscribe Advertise Categories Editor Choice Multimedi...</td>\n",
       "    </tr>\n",
       "  </tbody>\n",
       "</table>\n",
       "</div>"
      ],
      "text/plain": [
       "                                                                                                                        title  \\\n",
       "0                               Artificial intelligence improves parking efficiency in Chinese cities - People's Daily Online   \n",
       "1        Children With Autism Saw Their Learning and Social Skills Boosted After Playing With This AI Robot – News Parliament   \n",
       "2  Forget ML, AI and Industry 4.0 – obsolescence should be your focus - 26 February 2021 - Test & Rework Solutions - Dataweek   \n",
       "\n",
       "                                                                                                      title_clean  \\\n",
       "0                          Artificial intelligence improves parking efficiency Chinese cities People Daily Online   \n",
       "1  Children With Autism Saw Their Learning Social Skills Boosted After Playing With This AI Robot News Parliament   \n",
       "2                   Forget ML, AI Industry 4.0 obsolescence focus 26 February 2021 Test Rework Solutions Dataweek   \n",
       "\n",
       "                                                                                                                                                                                                      text  \\\n",
       "0  \\n\\nArtificial intelligence improves parking efficiency in Chinese cities - People's Daily Online\\n\\nHome\\nChina Politics\\nForeign Affairs\\nOpinions\\nVideo: We Are China\\nBusiness\\nMilitary\\nWorld...   \n",
       "1  \\nChildren With Autism Saw Their Learning and Social Skills Boosted After Playing With This AI Robot – News Parliament\\n \\n\\nSkip to content\\n\\t\\t\\tThursday, February 27, 2020\\t\\t\\n\\nLatest:\\n\\n\\n...   \n",
       "2  \\n\\nForget ML, AI and Industry 4.0 – obsolescence should be your focus - 26 February 2021 - Test & Rework Solutions - Dataweek\\nHome\\nAbout us\\nBack issues / E-book / PDF\\nEMP Handbook\\nSubscribe\\...   \n",
       "\n",
       "                                                                                                                                                                                                text_clean  \n",
       "0  Artificial intelligence improves parking efficiency Chinese cities People Daily Online Home China Politics Foreign Affairs Opinions Video We Are China Business Military World Society Culture Trave...  \n",
       "1  Children With Autism Saw Their Learning Social Skills Boosted After Playing With This AI Robot News Parliament Skip content Thursday, February 27, 2020 Latest Mansplaining conferences How get fore...  \n",
       "2  Forget ML, AI Industry 4.0 obsolescence focus 26 February 2021 Test Rework Solutions Dataweek Home About us Back issues book PDF EMP Handbook Subscribe Advertise Categories Editor Choice Multimedi...  "
      ]
     },
     "execution_count": 12,
     "metadata": {},
     "output_type": "execute_result"
    }
   ],
   "source": [
    "df[['title','title_clean','text','text_clean']].head(3)"
   ]
  },
  {
   "cell_type": "markdown",
   "metadata": {},
   "source": [
    "### Tokenize the text from cleaned title and text columns "
   ]
  },
  {
   "cell_type": "code",
   "execution_count": 13,
   "metadata": {
    "scrolled": true,
    "tags": []
   },
   "outputs": [
    {
     "data": {
      "application/vnd.jupyter.widget-view+json": {
       "model_id": "cd4a793e43cd42a48a7e0260a4cee30f",
       "version_major": 2,
       "version_minor": 0
      },
      "text/plain": [
       "VBox(children=(HBox(children=(IntProgress(value=0, description='0.00%', max=3232), Label(value='0 / 3232'))), …"
      ]
     },
     "metadata": {},
     "output_type": "display_data"
    },
    {
     "name": "stdout",
     "output_type": "stream",
     "text": [
      "CPU times: user 1.63 s, sys: 5.53 s, total: 7.16 s\n",
      "Wall time: 7.44 s\n"
     ]
    }
   ],
   "source": [
    "%%time\n",
    "df['title_tokens'] = df['title_clean'].parallel_apply(lambda x: nltk.tokenize.word_tokenize(x))"
   ]
  },
  {
   "cell_type": "code",
   "execution_count": 14,
   "metadata": {
    "scrolled": true,
    "tags": []
   },
   "outputs": [
    {
     "data": {
      "application/vnd.jupyter.widget-view+json": {
       "model_id": "adbe79aee792422bba66cf7c453809d2",
       "version_major": 2,
       "version_minor": 0
      },
      "text/plain": [
       "VBox(children=(HBox(children=(IntProgress(value=0, description='0.00%', max=3232), Label(value='0 / 3232'))), …"
      ]
     },
     "metadata": {},
     "output_type": "display_data"
    },
    {
     "name": "stdout",
     "output_type": "stream",
     "text": [
      "CPU times: user 38.6 s, sys: 32.8 s, total: 1min 11s\n",
      "Wall time: 1min 28s\n"
     ]
    }
   ],
   "source": [
    "%%time\n",
    "df['text_tokens'] = df['text_clean'].parallel_apply(lambda x: nltk.tokenize.word_tokenize(x))"
   ]
  },
  {
   "cell_type": "code",
   "execution_count": 15,
   "metadata": {},
   "outputs": [
    {
     "data": {
      "text/plain": [
       "Index(['date', 'month', 'year', 'quarter', 'day', 'dayofwk', 'language',\n",
       "       'title', 'text', 'title_clean', 'text_clean', 'title_tokens',\n",
       "       'text_tokens'],\n",
       "      dtype='object')"
      ]
     },
     "execution_count": 15,
     "metadata": {},
     "output_type": "execute_result"
    }
   ],
   "source": [
    "df.columns"
   ]
  },
  {
   "cell_type": "code",
   "execution_count": 16,
   "metadata": {},
   "outputs": [
    {
     "name": "stdout",
     "output_type": "stream",
     "text": [
      "CPU times: user 40.5 s, sys: 8.96 s, total: 49.5 s\n",
      "Wall time: 1min 9s\n"
     ]
    }
   ],
   "source": [
    "%%time\n",
    "df.drop('language',axis =1).to_parquet('data_cleaned.parquet')"
   ]
  },
  {
   "cell_type": "code",
   "execution_count": null,
   "metadata": {},
   "outputs": [],
   "source": []
  },
  {
   "cell_type": "code",
   "execution_count": 17,
   "metadata": {},
   "outputs": [
    {
     "name": "stdout",
     "output_type": "stream",
     "text": [
      "[NbConvertApp] Converting notebook NLP_Final_1.ipynb to html\n",
      "[NbConvertApp] Writing 651344 bytes to NLP_Final_1.html\n"
     ]
    }
   ],
   "source": [
    "!jupyter nbconvert --to html 'NLP_Final_1.ipynb'"
   ]
  },
  {
   "cell_type": "code",
   "execution_count": 18,
   "metadata": {},
   "outputs": [
    {
     "data": {
      "text/plain": [
       "'Sun, 21 May 2023 18:15:52'"
      ]
     },
     "execution_count": 18,
     "metadata": {},
     "output_type": "execute_result"
    }
   ],
   "source": [
    "import datetime\n",
    "import time\n",
    "import pytz\n",
    "datetime.datetime.now(pytz.timezone('US/Central')).strftime(\"%a, %d %B %Y %H:%M:%S\")"
   ]
  },
  {
   "cell_type": "code",
   "execution_count": null,
   "metadata": {},
   "outputs": [],
   "source": []
  }
 ],
 "metadata": {
  "environment": {
   "kernel": "python3",
   "name": "tf2-gpu.2-11.m108",
   "type": "gcloud",
   "uri": "gcr.io/deeplearning-platform-release/tf2-gpu.2-11:m108"
  },
  "kernelspec": {
   "display_name": "Python 3 (ipykernel)",
   "language": "python",
   "name": "python3"
  },
  "language_info": {
   "codemirror_mode": {
    "name": "ipython",
    "version": 3
   },
   "file_extension": ".py",
   "mimetype": "text/x-python",
   "name": "python",
   "nbconvert_exporter": "python",
   "pygments_lexer": "ipython3",
   "version": "3.10.10"
  }
 },
 "nbformat": 4,
 "nbformat_minor": 4
}
