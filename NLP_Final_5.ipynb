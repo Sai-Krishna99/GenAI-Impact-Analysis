{
 "cells": [
  {
   "cell_type": "markdown",
   "id": "2beadfea-9135-44f0-9ac8-71eef75bb601",
   "metadata": {},
   "source": [
    "## Summarizing the text before applying LDA"
   ]
  },
  {
   "cell_type": "code",
   "execution_count": 1,
   "id": "fb07fadf-27c0-4f42-bae8-640422589cff",
   "metadata": {},
   "outputs": [],
   "source": [
    "# !pip install --user pytextrank\n",
    "# !pip install --user ktrain"
   ]
  },
  {
   "cell_type": "code",
   "execution_count": 2,
   "id": "9dce851c-f6ee-40b7-a48c-567eea89d8ff",
   "metadata": {},
   "outputs": [
    {
     "name": "stderr",
     "output_type": "stream",
     "text": [
      "2023-05-23 15:46:03.857788: I tensorflow/core/platform/cpu_feature_guard.cc:193] This TensorFlow binary is optimized with oneAPI Deep Neural Network Library (oneDNN) to use the following CPU instructions in performance-critical operations:  AVX2 FMA\n",
      "To enable them in other operations, rebuild TensorFlow with the appropriate compiler flags.\n",
      "2023-05-23 15:46:08.490162: W tensorflow/compiler/xla/stream_executor/platform/default/dso_loader.cc:64] Could not load dynamic library 'libnvinfer.so.7'; dlerror: libnvinfer.so.7: cannot open shared object file: No such file or directory; LD_LIBRARY_PATH: /usr/local/cuda/lib64:/usr/local/nccl2/lib:/usr/local/cuda/extras/CUPTI/lib64\n",
      "2023-05-23 15:46:08.491179: W tensorflow/compiler/xla/stream_executor/platform/default/dso_loader.cc:64] Could not load dynamic library 'libnvinfer_plugin.so.7'; dlerror: libnvinfer_plugin.so.7: cannot open shared object file: No such file or directory; LD_LIBRARY_PATH: /usr/local/cuda/lib64:/usr/local/nccl2/lib:/usr/local/cuda/extras/CUPTI/lib64\n",
      "2023-05-23 15:46:08.491191: W tensorflow/compiler/tf2tensorrt/utils/py_utils.cc:38] TF-TRT Warning: Cannot dlopen some TensorRT libraries. If you would like to use Nvidia GPU with TensorRT, please make sure the missing libraries mentioned above are installed properly.\n",
      "2023-05-23 15:46:11.751169: W tensorflow/compiler/xla/stream_executor/platform/default/dso_loader.cc:64] Could not load dynamic library 'libcuda.so.1'; dlerror: libcuda.so.1: cannot open shared object file: No such file or directory; LD_LIBRARY_PATH: /usr/local/cuda/lib64:/usr/local/nccl2/lib:/usr/local/cuda/extras/CUPTI/lib64\n",
      "2023-05-23 15:46:11.752315: W tensorflow/compiler/xla/stream_executor/cuda/cuda_driver.cc:265] failed call to cuInit: UNKNOWN ERROR (303)\n",
      "2023-05-23 15:46:11.752345: I tensorflow/compiler/xla/stream_executor/cuda/cuda_diagnostics.cc:156] kernel driver does not appear to be running on this host (nlp-notebook): /proc/driver/nvidia/version does not exist\n"
     ]
    }
   ],
   "source": [
    "import pandas as pd\n",
    "import numpy as np\n",
    "import matplotlib.pyplot as plt\n",
    "import seaborn as sns\n",
    "import re\n",
    "import sys\n",
    "import os\n",
    "import nltk.corpus  \n",
    "from nltk.text import Text\n",
    "import spacy\n",
    "from pandarallel import pandarallel\n",
    "import multiprocessing\n",
    "import warnings\n",
    "warnings.filterwarnings('ignore')\n",
    "import ipywidgets as widgets\n",
    "widgets.IntSlider()\n",
    "pd.set_option('max_colwidth', 200)\n",
    "import pytextrank"
   ]
  },
  {
   "cell_type": "code",
   "execution_count": 15,
   "id": "b7e56a3a-c5e0-488e-9804-f65df8396ba3",
   "metadata": {},
   "outputs": [
    {
     "data": {
      "text/plain": [
       "<spacy.pipeline.sentencizer.Sentencizer at 0x7f6f86148b40>"
      ]
     },
     "execution_count": 15,
     "metadata": {},
     "output_type": "execute_result"
    }
   ],
   "source": [
    "nlp = spacy.load(\"en_core_web_sm\")\n",
    "nlp.add_pipe(\"textrank\")\n",
    "nlp.add_pipe(\"sentencizer\")"
   ]
  },
  {
   "cell_type": "code",
   "execution_count": 16,
   "id": "981743c9-96cd-46bd-b5d3-86178684b745",
   "metadata": {},
   "outputs": [
    {
     "name": "stdout",
     "output_type": "stream",
     "text": [
      "['tok2vec', 'tagger', 'parser', 'attribute_ruler', 'lemmatizer', 'ner', 'textrank', 'sentencizer']\n"
     ]
    }
   ],
   "source": [
    "print(nlp.pipe_names)"
   ]
  },
  {
   "cell_type": "code",
   "execution_count": 4,
   "id": "fb3b5f0a-38f1-4edd-b11e-a0a195ee4c79",
   "metadata": {},
   "outputs": [
    {
     "name": "stdout",
     "output_type": "stream",
     "text": [
      "CPU times: user 32 s, sys: 8.95 s, total: 41 s\n",
      "Wall time: 51.9 s\n"
     ]
    },
    {
     "data": {
      "text/plain": [
       "(181958, 14)"
      ]
     },
     "execution_count": 4,
     "metadata": {},
     "output_type": "execute_result"
    }
   ],
   "source": [
    "%%time\n",
    "df = pd.read_parquet('data_to_sentiment.parquet', engine='pyarrow')\n",
    "df.shape"
   ]
  },
  {
   "cell_type": "code",
   "execution_count": 9,
   "id": "29600f2d-5181-493b-a51a-91d6c0a9e845",
   "metadata": {},
   "outputs": [
    {
     "data": {
      "text/plain": [
       "'Artificial intelligence improves parking efficiency Chinese cities People Daily Online Home China Politics Foreign Affairs Opinions Video We Are China Business Military World Society Culture Travel Science Sports Photo Languages Chinese Japanese French Spanish Russian Arabic Korean German Portuguese Thursday , March 18 , 2021 Home Artificial intelligence improves parking efficiency Chinese cities By LiuShiyao People Daily 09 16 , March 18 , 2021 Photo taken July 1 , 2019 , shows sign electronic toll collection ETC newly set roadside parking space Yangzhuang road , Shijingshan district , Beijing . Some urban areas city started use ETC system roadside parking spaces July 1 , 2019 . Peoples Daily Online Li Wenming Thanks application artificial intelligence AI empowered roadside electronic toll collection ETC system , Chinas city Beijing seen significant improvement efficiency parking fee collection , turnover roadside parking spots , order roadside parking , congestion . As city deepens roadside parking reform , ETC system covered roadside parking spaces city , proportion vehicles parked roads system exceeding 90 percent . With AI empowered system , drivers park vehicles parking spots roadside , pay parking charge mobile phones drive away . This road cars , normal lanes occupied . You hardly bit morning evening commute time , recalled citizen surnamed Wang , lives Chaoyang district Beijing . Since summer 2019 , roadside ETC devices installed . With cars parked designated parking spots roadside , road brighter wider , Wang said . The smart roadside ETC system AIpark Sky Eye adopted Beijing developed , operated , maintained AIpark , Beijing based leading smart parking solution provider . The companys intelligent system brought play advantages AI technologies effectively addressed shortage parking spaces problem irregular parking cities . The system listed countrys innovation projects integrate AI deeply real economy 2018 Chinas Ministry Industry Information Technology MIIT Traditional parking management equipment monitoring devices failed meet actual needs cities limited application scenarios technical capacity . There deficiencies traditional parking systems . For example , magnetic devices identify detailed information vehicles video monitoring pile cover parking spot manual collection parking fees costs . Such problems nt exist smart machines . The AIpark Sky Eye system boasts strong stability high recognition rate . Besides , resist interference extreme weather conditions rain , snow , fog , form complete graphic evidence based wheel path vehicles . Each set cameras AIpark Sky Eye system monitor multiple parking spots time 24 hours day . The data collected end cameras processed multi dimensional deep learning algorithm uploaded AI computing cloud platform data enrichment . The platform distributes identification results transport authorities . The distinctive innovation technological package system precision brought high mounted parking system cameras , according Xiang Yanping , senior vice president AIpark , noting cameras recognize complex static dynamic reality scenes . For example , equipment accurately identify irregular parking behaviors state double parking frequent maneuvers , precisely recognize detailed information including plate number vehicle color , good judgment behaviors drivers pedestrians , Xiang said . Once high mounted parking system cameras installed , help aspects integrated urban governance , represents advantage AIpark Sky Eye system . Besides managing parking fee collection , high mounted camera system provide data improvements . The snapshots obtained camera system help solve problems including illegal inappropriate parking vehicle theft . So far , smart ETC system AIpark introduced 20 cities China , signaling increasingly important roles AI improving parking efficiency order new development opportunities smart parking industry . 123 Photos Naval fleet steams East China Sea Newborn golden snub nosed monkey makes debut In pics birds China Grain painting studio helps villagers increase income Related Stories Exhibition highlighting art science integration opens BeijingChinas AI industry poised enter boom timesAlibaba outlines 10 technology trends 2019Chinas leading AI enterprise iFlytek develop health information technologyCheetah Mobile wades artificial intelligenceChina overtakes US investment AI5 million artificial intelligence talents urgently needed ChinaGraduate students voice sign languageArtificial Intelligence real livesMicrosoft embraces artificial intelligence About People Daily Online Join Us Contact Us Copyright 2021 People Daily Online . All Rights Reserved .'"
      ]
     },
     "execution_count": 9,
     "metadata": {},
     "output_type": "execute_result"
    }
   ],
   "source": [
    "text = df['text_clean'][0]\n",
    "text"
   ]
  },
  {
   "cell_type": "code",
   "execution_count": 42,
   "id": "75ee62bf-336a-4c6a-b35b-f692bc55a020",
   "metadata": {},
   "outputs": [
    {
     "data": {
      "text/plain": [
       "'Peoples Daily Online Li Wenming Thanks application artificial intelligence AI empowered roadside electronic toll collection ETC system , Chinas city Beijing seen significant improvement efficiency parking fee collection , turnover roadside parking spots , order roadside parking , congestion . As city deepens roadside parking reform , ETC system covered roadside parking spaces city , proportion vehicles parked roads system exceeding 90 percent . The companys intelligent system brought play advantages AI technologies effectively addressed shortage parking spaces problem irregular parking cities . So far , smart ETC system AIpark introduced 20 cities China , signaling increasingly important roles AI improving parking efficiency order new development opportunities smart parking industry . There deficiencies traditional parking systems . Some urban areas city started use ETC system roadside parking spaces July 1 , 2019 . Artificial intelligence improves parking efficiency Chinese cities We Are China Business Military World Society Culture Travel Science Sports Photo Languages Chinese Japanese French Spanish Russian Arabic Korean German Portuguese Thursday , March 18 , 2021 Home Artificial intelligence improves parking efficiency Chinese cities By LiuShiyao People Daily 09 16 , March 18 , The distinctive innovation technological package system precision brought high mounted parking system cameras , according Xiang Yanping , senior vice president AIpark , noting cameras recognize complex static dynamic reality scenes . Once high mounted parking system cameras installed , help aspects integrated urban governance , represents advantage AIpark Sky Eye system . Besides managing parking fee collection , high mounted camera system provide data improvements . Each set cameras AIpark Sky Eye system monitor multiple parking spots time 24 hours day . With cars parked designated parking spots roadside , road brighter wider , Wang said . With AI empowered system , drivers park vehicles parking spots roadside , pay parking charge mobile phones drive away . For example , equipment accurately identify irregular parking behaviors state double parking frequent maneuvers , precisely recognize detailed information including plate number vehicle color , good judgment behaviors drivers pedestrians , Xiang said .'"
      ]
     },
     "execution_count": 42,
     "metadata": {},
     "output_type": "execute_result"
    }
   ],
   "source": [
    "doc = nlp(text)\n",
    "sumy = (list(doc._.textrank.summary(limit_phrases = 20, limit_sentences=15)))\n",
    "summaries = [span.text for span in sumy]\n",
    "' '.join(summaries)"
   ]
  },
  {
   "cell_type": "code",
   "execution_count": 46,
   "id": "3017bb29-8931-43bb-8a20-89bd068e30ff",
   "metadata": {},
   "outputs": [],
   "source": [
    "def process_text(text):\n",
    "    doc = nlp(text)\n",
    "    sumy_obj = list(doc._.textrank.summary(limit_phrases =20, limit_sentences = 15))\n",
    "    summary = [span.text for span in sumy_obj]\n",
    "    return summary"
   ]
  },
  {
   "cell_type": "code",
   "execution_count": 44,
   "id": "272a087b-8ddc-4221-a0d9-559b86881446",
   "metadata": {},
   "outputs": [
    {
     "name": "stdout",
     "output_type": "stream",
     "text": [
      "INFO: Pandarallel will run on 62 workers.\n",
      "INFO: Pandarallel will use standard multiprocessing data transfer (pipe) to transfer data between the main process and workers.\n"
     ]
    }
   ],
   "source": [
    "pandarallel.initialize(nb_workers = 62, progress_bar = True, use_memory_fs = False)"
   ]
  },
  {
   "cell_type": "code",
   "execution_count": 47,
   "id": "185d3f3f-fcf3-4ef5-bc88-50045d8f1026",
   "metadata": {
    "scrolled": true,
    "tags": []
   },
   "outputs": [
    {
     "data": {
      "application/vnd.jupyter.widget-view+json": {
       "model_id": "657e5743b24f4346a817228096f4640e",
       "version_major": 2,
       "version_minor": 0
      },
      "text/plain": [
       "VBox(children=(HBox(children=(IntProgress(value=0, description='0.00%', max=2935), Label(value='0 / 2935'))), …"
      ]
     },
     "metadata": {},
     "output_type": "display_data"
    },
    {
     "name": "stdout",
     "output_type": "stream",
     "text": [
      "CPU times: user 3min 36s, sys: 44.6 s, total: 4min 20s\n",
      "Wall time: 15min 40s\n"
     ]
    }
   ],
   "source": [
    "%%time\n",
    "df['summary'] = df['text_clean'].parallel_apply(lambda x: process_text(x))"
   ]
  },
  {
   "cell_type": "code",
   "execution_count": 50,
   "id": "6da011ee-2cd8-42d3-9751-b8ce2b252670",
   "metadata": {
    "scrolled": true,
    "tags": []
   },
   "outputs": [
    {
     "data": {
      "application/vnd.jupyter.widget-view+json": {
       "model_id": "b20d5f309ab3444e8503bbb63f404043",
       "version_major": 2,
       "version_minor": 0
      },
      "text/plain": [
       "VBox(children=(HBox(children=(IntProgress(value=0, description='0.00%', max=2935), Label(value='0 / 2935'))), …"
      ]
     },
     "metadata": {},
     "output_type": "display_data"
    },
    {
     "name": "stdout",
     "output_type": "stream",
     "text": [
      "CPU times: user 1.93 s, sys: 5.95 s, total: 7.88 s\n",
      "Wall time: 10.8 s\n"
     ]
    }
   ],
   "source": [
    "%%time\n",
    "df['summary'] = df['summary'].parallel_apply(lambda x: \" \".join(x))"
   ]
  },
  {
   "cell_type": "code",
   "execution_count": 51,
   "id": "73fba8c0-26f9-4144-a15c-33a2a179aa59",
   "metadata": {},
   "outputs": [
    {
     "data": {
      "text/html": [
       "<div>\n",
       "<style scoped>\n",
       "    .dataframe tbody tr th:only-of-type {\n",
       "        vertical-align: middle;\n",
       "    }\n",
       "\n",
       "    .dataframe tbody tr th {\n",
       "        vertical-align: top;\n",
       "    }\n",
       "\n",
       "    .dataframe thead th {\n",
       "        text-align: right;\n",
       "    }\n",
       "</style>\n",
       "<table border=\"1\" class=\"dataframe\">\n",
       "  <thead>\n",
       "    <tr style=\"text-align: right;\">\n",
       "      <th></th>\n",
       "      <th>text_clean</th>\n",
       "      <th>summary</th>\n",
       "    </tr>\n",
       "  </thead>\n",
       "  <tbody>\n",
       "    <tr>\n",
       "      <th>0</th>\n",
       "      <td>Artificial intelligence improves parking efficiency Chinese cities People Daily Online Home China Politics Foreign Affairs Opinions Video We Are China Business Military World Society Culture Trave...</td>\n",
       "      <td>Peoples Daily Online Li Wenming Thanks application artificial intelligence AI empowered roadside electronic toll collection ETC system , Chinas city Beijing seen significant improvement efficiency...</td>\n",
       "    </tr>\n",
       "    <tr>\n",
       "      <th>1</th>\n",
       "      <td>Children With Autism Saw Their Learning Social Skills Boosted After Playing With This AI Robot News Parliament Skip Thursday , February 27 , 2020 Latest Mansplaining conferences How forestall Drax...</td>\n",
       "      <td>Overnight Like Did Italy February 27 , 2020February 27 , 2020 admin News Coronavirus Dettol sales surge markets fall February 27 , 2020February 27 , 2020 Allen Becker Business Levi Strauss marks p...</td>\n",
       "    </tr>\n",
       "    <tr>\n",
       "      <th>2</th>\n",
       "      <td>Forget ML , AI Industry 4.0 obsolescence focus 26 February 2021 Test Rework Solutions Dataweek Home About Back issues book PDF EMP Handbook Subscribe Advertise Categories Editor Choice Multimedia ...</td>\n",
       "      <td>Forget ML , AI Industry 4.0 obsolescence focus 26 February 2021 Test Rework Solutions Dataweek Home About Back issues book PDF EMP Handbook Subscribe Advertise Categories Editor Choice Multimedia ...</td>\n",
       "    </tr>\n",
       "  </tbody>\n",
       "</table>\n",
       "</div>"
      ],
      "text/plain": [
       "                                                                                                                                                                                                text_clean   \n",
       "0  Artificial intelligence improves parking efficiency Chinese cities People Daily Online Home China Politics Foreign Affairs Opinions Video We Are China Business Military World Society Culture Trave...  \\\n",
       "1  Children With Autism Saw Their Learning Social Skills Boosted After Playing With This AI Robot News Parliament Skip Thursday , February 27 , 2020 Latest Mansplaining conferences How forestall Drax...   \n",
       "2  Forget ML , AI Industry 4.0 obsolescence focus 26 February 2021 Test Rework Solutions Dataweek Home About Back issues book PDF EMP Handbook Subscribe Advertise Categories Editor Choice Multimedia ...   \n",
       "\n",
       "                                                                                                                                                                                                   summary  \n",
       "0  Peoples Daily Online Li Wenming Thanks application artificial intelligence AI empowered roadside electronic toll collection ETC system , Chinas city Beijing seen significant improvement efficiency...  \n",
       "1  Overnight Like Did Italy February 27 , 2020February 27 , 2020 admin News Coronavirus Dettol sales surge markets fall February 27 , 2020February 27 , 2020 Allen Becker Business Levi Strauss marks p...  \n",
       "2  Forget ML , AI Industry 4.0 obsolescence focus 26 February 2021 Test Rework Solutions Dataweek Home About Back issues book PDF EMP Handbook Subscribe Advertise Categories Editor Choice Multimedia ...  "
      ]
     },
     "execution_count": 51,
     "metadata": {},
     "output_type": "execute_result"
    }
   ],
   "source": [
    "df[['text_clean','summary']].head(3)"
   ]
  },
  {
   "cell_type": "code",
   "execution_count": 52,
   "id": "01f208f6-acb1-46ff-a4fb-cd8faf8b66d3",
   "metadata": {},
   "outputs": [
    {
     "name": "stdout",
     "output_type": "stream",
     "text": [
      "CPU times: user 36 s, sys: 7.52 s, total: 43.6 s\n",
      "Wall time: 52.9 s\n"
     ]
    }
   ],
   "source": [
    "%%time\n",
    "df.to_parquet(\"data_to_sentiment.parquet\")"
   ]
  },
  {
   "cell_type": "code",
   "execution_count": null,
   "id": "845abe2c-cc6e-4c1a-9a73-1ea7556bfa33",
   "metadata": {},
   "outputs": [],
   "source": []
  },
  {
   "cell_type": "code",
   "execution_count": null,
   "id": "4b647b24-a18c-4a91-8b07-22d7d62bb089",
   "metadata": {},
   "outputs": [],
   "source": []
  },
  {
   "cell_type": "code",
   "execution_count": 53,
   "id": "825204b7-3d9d-43fc-9bed-c3badeb9614a",
   "metadata": {},
   "outputs": [
    {
     "data": {
      "text/plain": [
       "'Tue, 23 May 2023 11:41:33'"
      ]
     },
     "execution_count": 53,
     "metadata": {},
     "output_type": "execute_result"
    }
   ],
   "source": [
    "import datetime\n",
    "import time\n",
    "import pytz\n",
    "datetime.datetime.now(pytz.timezone('US/Central')).strftime(\"%a, %d %B %Y %H:%M:%S\")"
   ]
  }
 ],
 "metadata": {
  "environment": {
   "kernel": "python3",
   "name": "tf2-gpu.2-11.m108",
   "type": "gcloud",
   "uri": "gcr.io/deeplearning-platform-release/tf2-gpu.2-11:m108"
  },
  "kernelspec": {
   "display_name": "Python 3 (ipykernel)",
   "language": "python",
   "name": "python3"
  },
  "language_info": {
   "codemirror_mode": {
    "name": "ipython",
    "version": 3
   },
   "file_extension": ".py",
   "mimetype": "text/x-python",
   "name": "python",
   "nbconvert_exporter": "python",
   "pygments_lexer": "ipython3",
   "version": "3.10.10"
  }
 },
 "nbformat": 4,
 "nbformat_minor": 5
}
